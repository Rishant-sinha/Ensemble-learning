{
  "nbformat": 4,
  "nbformat_minor": 0,
  "metadata": {
    "colab": {
      "provenance": []
    },
    "kernelspec": {
      "name": "python3",
      "display_name": "Python 3"
    },
    "language_info": {
      "name": "python"
    }
  },
  "cells": [
    {
      "cell_type": "markdown",
      "source": [
        "#Ensemble Learning"
      ],
      "metadata": {
        "id": "8phnnP2ssuww"
      }
    },
    {
      "cell_type": "markdown",
      "source": [
        "1. Can we use Bagging for regression problems?\n",
        "- Yes, bagging can be used for regression problems. In this technique, multiple models are trained on different random subsets of the training data. The final prediction is made by averaging the outputs of all the models. This helps to reduce variance and improve the accuracy of the regression model. Random Forest Regressor is a common example of bagging used for regression.\n"
      ],
      "metadata": {
        "id": "DDmw0VSGszv6"
      }
    },
    {
      "cell_type": "markdown",
      "source": [
        "2.  What is the difference between multiple model training and single model training?\n",
        "The difference between **multiple model training** and **single model training** lies in how predictions are generated and how errors are handled:\n",
        "\n",
        " 1. **Single Model Training**:\n",
        "\n",
        "   * Only one model is trained on the entire dataset.\n",
        "   * The prediction depends solely on this model.\n",
        "   * It may have high variance or bias, depending on the model type and data.\n",
        "\n",
        " 2. **Multiple Model Training (Ensemble Methods)**:\n",
        "\n",
        "   * Several models are trained (e.g., on different subsets of data).\n",
        "   * Their predictions are combined (e.g., by voting or averaging).\n",
        "   * It reduces overfitting, increases accuracy, and provides more stable results.\n",
        "\n",
        "In short, **single model = one opinion**, while **multiple models = group decision**.\n"
      ],
      "metadata": {
        "id": "3Og8dUQTtQO6"
      }
    },
    {
      "cell_type": "markdown",
      "source": [
        "3. Explain the concept of feature randomness in Random Forest.\n",
        "- **Feature randomness** in a **Random Forest** refers to the idea of selecting a random subset of features (columns) at each split in a decision tree.\n",
        "\n",
        "### Explanation:\n",
        "\n",
        "* In a Random Forest, multiple decision trees are built.\n",
        "* When a tree decides where to split a node, it doesn't consider all features.\n",
        "* Instead, it randomly selects a subset of features and chooses the best split only from those.\n",
        "\n",
        "### Purpose:\n",
        "\n",
        "* This randomness helps to make each tree different from the others.\n",
        "* It reduces the chance that all trees make the same mistakes.\n",
        "* It leads to better generalization and less overfitting.\n",
        "\n",
        "### Example:\n",
        "\n",
        "If you have 10 features, a Random Forest might use only 3 randomly chosen features to decide each split in each tree.\n",
        "\n",
        "In short, **feature randomness increases diversity among trees**, which improves the overall performance of the forest.\n"
      ],
      "metadata": {
        "id": "e3HWBBQEtmOR"
      }
    },
    {
      "cell_type": "markdown",
      "source": [
        "4. What is OOB (Out-of-Bag) Score?\n",
        "- The **Out-of-Bag (OOB) score** is a way to measure the performance of a Random Forest model without needing a separate test set. When each tree in the forest is trained, it uses a random subset of the data, and about one-third of the data is left out — this is called the OOB data. The model then tests its predictions on this unused data. The OOB score is the average result of these predictions and gives a good estimate of how well the model will perform on unseen data.\n"
      ],
      "metadata": {
        "id": "8OU4gmJCt9Wo"
      }
    },
    {
      "cell_type": "markdown",
      "source": [
        "5. How can you measure the importance of features in a Random Forest model?\n",
        "- In a **Random Forest model**, feature importance can be measured by how much each feature contributes to improving the model’s performance. There are two common ways to do this:\n",
        "\n",
        "1. **Gini Importance (Mean Decrease in Impurity)**:\n",
        "\n",
        "   * Every time a feature is used to split a node, the model measures how much the split improves the purity (reduces impurity).\n",
        "   * The improvements are added up and averaged across all trees.\n",
        "   * Features with higher total improvement are considered more important.\n",
        "\n",
        "2. **Permutation Importance**:\n",
        "\n",
        "   * After the model is trained, the values of one feature are randomly shuffled.\n",
        "   * The model's performance is measured again.\n",
        "   * If the performance drops a lot, the feature is important. If not, it’s less important.\n",
        "\n",
        "In simple terms, feature importance tells us **which features help the model make better decisions**.\n"
      ],
      "metadata": {
        "id": "ViyzP8WzuMCh"
      }
    },
    {
      "cell_type": "markdown",
      "source": [
        "6. Explain the working principle of a Bagging Classifier.\n",
        "- The **Bagging Classifier** works by combining the predictions of multiple base classifiers to improve accuracy and reduce overfitting. Here's how it works:\n",
        "\n",
        "1. **Bootstrapping**: It creates multiple random subsets of the original training data by sampling **with replacement** (some data points may repeat).\n",
        "\n",
        "2. **Training**: A separate base model (like a decision tree) is trained on each of these subsets independently.\n",
        "\n",
        "3. **Prediction**:\n",
        "\n",
        "   * For **classification**, each model gives a class prediction, and the final output is decided by **majority voting** (the class that most models predict).\n",
        "   * For **regression**, it takes the **average** of all predictions.\n",
        "\n",
        "4. **Outcome**: This process reduces variance and improves model stability and accuracy, especially for models like decision trees that are sensitive to small changes in the data.\n",
        "\n",
        "In short, a **Bagging Classifier** builds many models on different data samples and combines their outputs to make a stronger overall prediction.\n"
      ],
      "metadata": {
        "id": "uHlteEqGuWhy"
      }
    },
    {
      "cell_type": "markdown",
      "source": [
        "7. How do you evaluate a Bagging Classifier’s performance?\n",
        "- You can evaluate a **Bagging Classifier’s** performance using the following methods:\n",
        "\n",
        "1. **Accuracy Score**:\n",
        "\n",
        "   * Measures the percentage of correct predictions on a test set.\n",
        "   * Useful for balanced classification problems.\n",
        "\n",
        "2. **Confusion Matrix**:\n",
        "\n",
        "   * Shows true positives, true negatives, false positives, and false negatives.\n",
        "   * Helps understand model errors in detail.\n",
        "\n",
        "3. **Precision, Recall, and F1-Score**:\n",
        "\n",
        "   * Precision: How many predicted positives are actually correct.\n",
        "   * Recall: How many actual positives were correctly predicted.\n",
        "   * F1-Score: Harmonic mean of precision and recall.\n",
        "\n",
        "4. **ROC Curve and AUC Score**:\n",
        "\n",
        "   * Shows the trade-off between true positive rate and false positive rate.\n",
        "   * AUC (Area Under Curve) gives a single score; closer to 1 is better.\n",
        "\n",
        "5. **Cross-Validation**:\n",
        "\n",
        "   * Splits the data into multiple parts to test the model on different subsets.\n",
        "   * Gives a more reliable estimate of performance.\n",
        "\n",
        "6. **OOB (Out-of-Bag) Score**:\n",
        "\n",
        "   * Specific to Bagging; evaluates accuracy using samples not included in each bootstrap set.\n",
        "\n",
        "In short, performance is checked using accuracy, precision-recall metrics, ROC curves, and possibly the OOB score for internal validation.\n"
      ],
      "metadata": {
        "id": "usmxMOxrukGS"
      }
    },
    {
      "cell_type": "markdown",
      "source": [
        "8. How does a Bagging Regressor work?\n",
        "- A **Bagging Regressor** works by combining the predictions of multiple regression models to improve accuracy and reduce overfitting. Here's how it works:\n",
        "\n",
        "1. **Bootstrapping**:\n",
        "\n",
        "   * It creates multiple random subsets of the training data by sampling **with replacement**.\n",
        "\n",
        "2. **Training**:\n",
        "\n",
        "   * A separate **regression model** (usually decision trees) is trained on each subset independently.\n",
        "\n",
        "3. **Prediction**:\n",
        "\n",
        "   * Each model makes a numerical prediction.\n",
        "   * The final output is the **average** of all these predictions.\n",
        "\n",
        "4. **Result**:\n",
        "\n",
        "   * Averaging reduces the model's **variance**, leading to more stable and accurate predictions.\n",
        "\n",
        "In short, a **Bagging Regressor** builds several models on different data samples and **averages** their outputs to get a stronger, more reliable prediction.\n"
      ],
      "metadata": {
        "id": "p2gKixvruy-i"
      }
    },
    {
      "cell_type": "markdown",
      "source": [
        "9. What is the main advantage of ensemble techniques?\n",
        "- The main advantage of ensemble techniques is that they **combine multiple models to produce better overall performance** than any single model alone. This leads to:\n",
        "\n",
        "* **Higher accuracy**\n",
        "* **Reduced overfitting**\n",
        "* **Improved robustness and stability**\n",
        "* Better generalization to new, unseen data.\n",
        "\n",
        "In short, ensembles leverage the strengths of many models to make more reliable and accurate predictions.\n"
      ],
      "metadata": {
        "id": "u0wdK9-Qu-Kh"
      }
    },
    {
      "cell_type": "markdown",
      "source": [
        "10. What is the main challenge of ensemble methods?\n",
        "- The main challenge of ensemble methods is that they can be **computationally expensive and complex**. Training multiple models requires more time, memory, and processing power compared to a single model. Additionally, ensembles can be harder to interpret and explain, making it difficult to understand how individual features influence the final prediction.\n"
      ],
      "metadata": {
        "id": "bGBVwDsvvIuJ"
      }
    },
    {
      "cell_type": "markdown",
      "source": [
        "11. Explain the key idea behind ensemble techniques.\n",
        "- The key idea behind ensemble techniques is to combine the predictions of multiple models to create a stronger overall model. By aggregating different models—each trained in slightly different ways—ensembles reduce errors like bias and variance. This leads to more accurate, stable, and reliable predictions than any single model could achieve alone. Essentially, ensembles use the “wisdom of the crowd” to improve performance.\n"
      ],
      "metadata": {
        "id": "wyBAyaUDvR2C"
      }
    },
    {
      "cell_type": "markdown",
      "source": [
        "12. What is a Random Forest Classifier?\n",
        "- A **Random Forest Classifier** is an ensemble learning method that builds many decision trees during training and combines their predictions to classify data. Each tree is trained on a random subset of the data (bootstrapped samples) and, at each split, considers a random subset of features. The final class prediction is made by **majority voting** across all the trees. This approach improves accuracy, reduces overfitting, and increases model robustness compared to a single decision tree.\n"
      ],
      "metadata": {
        "id": "Wldwzt8evZjR"
      }
    },
    {
      "cell_type": "markdown",
      "source": [
        "13. What are the main types of ensemble techniques?\n",
        "- The main types of ensemble techniques are:\n",
        "\n",
        "1. **Bagging (Bootstrap Aggregating)**\n",
        "\n",
        "   * Builds multiple models independently on different random samples of the data.\n",
        "   * Combines predictions by voting (classification) or averaging (regression).\n",
        "   * Example: Random Forest.\n",
        "\n",
        "2. **Boosting**\n",
        "\n",
        "   * Builds models sequentially, where each model tries to correct the errors of the previous one.\n",
        "   * Focuses more on difficult cases.\n",
        "   * Example: AdaBoost, Gradient Boosting.\n",
        "\n",
        "3. **Stacking (Stacked Generalization)**\n",
        "\n",
        "   * Combines multiple different models by training a “meta-model” on their outputs.\n",
        "   * The meta-model learns how to best combine predictions.\n",
        "\n",
        "4. **Voting**\n",
        "\n",
        "   * Combines predictions of multiple models by majority vote (hard voting) or averaging predicted probabilities (soft voting).\n",
        "\n",
        "These techniques improve prediction accuracy by leveraging multiple models in different ways.\n"
      ],
      "metadata": {
        "id": "F4bBHW-KvhiT"
      }
    },
    {
      "cell_type": "markdown",
      "source": [
        "14. What is ensemble learning in machine learning?\n",
        "- **Ensemble learning** in machine learning is a technique where multiple models (often called “weak learners”) are combined to solve a problem and improve overall performance. Instead of relying on a single model, ensemble learning aggregates the predictions of several models to get more accurate, stable, and reliable results. The idea is that a group of models working together can outperform any individual model by reducing errors like bias and variance.\n"
      ],
      "metadata": {
        "id": "YHsoMTHLvr8q"
      }
    },
    {
      "cell_type": "markdown",
      "source": [
        "15. When should we avoid using ensemble methods?\n",
        "- We should avoid using ensemble methods when:\n",
        "\n",
        "1. **Interpretability is critical** — ensembles are harder to explain than simple models.\n",
        "2. **Computational resources are limited** — training many models takes more time and memory.\n",
        "3. **The dataset is very small** — ensembles can overfit or not add much benefit.\n",
        "4. **A single simple model already performs well** — adding complexity may not improve results much.\n",
        "5. **Real-time predictions are needed** — ensembles can be slower to predict.\n",
        "\n",
        "In these cases, simpler models might be a better choice.\n"
      ],
      "metadata": {
        "id": "Upu1oLTNv0rD"
      }
    },
    {
      "cell_type": "markdown",
      "source": [
        "16. How does Bagging help in reducing overfitting?\n",
        "- Bagging helps reduce overfitting by training multiple models on different random subsets of the data, which introduces diversity among them. Since each model sees slightly different data, their errors tend to be uncorrelated. When their predictions are combined (by voting or averaging), the overall model averages out individual mistakes, reducing variance and preventing the model from fitting noise in the training data too closely. This leads to a more stable and generalized model.\n"
      ],
      "metadata": {
        "id": "qgDK1L1_v-9Z"
      }
    },
    {
      "cell_type": "markdown",
      "source": [
        "17. Why is Random Forest better than a single Decision Tree?\n",
        "- Random Forest is better than a single Decision Tree because it builds many trees using different random samples of data and random subsets of features, which creates diversity among the trees. By combining their predictions through majority voting, it reduces overfitting and variance that a single tree often suffers from. This makes Random Forest more accurate, stable, and better at generalizing to new data than a single Decision Tree.\n"
      ],
      "metadata": {
        "id": "eaU5w9tYwHuC"
      }
    },
    {
      "cell_type": "markdown",
      "source": [
        "18. What is the role of bootstrap sampling in Bagging?\n",
        "- The role of **bootstrap sampling** in Bagging is to create multiple different training datasets by randomly sampling the original data **with replacement**. Each bootstrap sample is used to train a separate model. This randomness ensures that each model sees a slightly different dataset, which increases diversity among models. When their predictions are combined, this diversity helps reduce variance and overfitting, leading to better overall performance.\n"
      ],
      "metadata": {
        "id": "uTQ0uoKKwQWr"
      }
    },
    {
      "cell_type": "markdown",
      "source": [
        "19. What are some real-world applications of ensemble techniques?\n",
        "- Some real-world applications of ensemble techniques include:\n",
        "\n",
        "1. **Fraud Detection** in banking and finance — ensembles improve accuracy in spotting fraudulent transactions.\n",
        "2. **Medical Diagnosis** — combining models helps in better disease prediction and risk assessment.\n",
        "3. **Spam Filtering** — ensembles classify emails more reliably as spam or not.\n",
        "4. **Customer Churn Prediction** — businesses use ensembles to predict which customers might leave.\n",
        "5. **Image and Speech Recognition** — ensembles boost accuracy in identifying objects or speech patterns.\n",
        "6. **Stock Market Prediction** — combining models helps forecast price movements more robustly.\n",
        "7. **Recommendation Systems** — ensembles enhance product or content recommendations by aggregating multiple models.\n",
        "\n",
        "Ensemble methods are widely used wherever high accuracy and reliability are crucial.\n"
      ],
      "metadata": {
        "id": "1ncigo1_wYEB"
      }
    },
    {
      "cell_type": "markdown",
      "source": [
        "20. What is the difference between Bagging and Boosting.\n",
        "- The key differences between **Bagging** and **Boosting** are:\n",
        "\n",
        "1. **Training Approach:**\n",
        "\n",
        "   * **Bagging** trains multiple models **independently** on random bootstrapped samples of the data.\n",
        "   * **Boosting** trains models **sequentially**, where each new model focuses on correcting the errors of the previous ones.\n",
        "\n",
        "2. **Goal:**\n",
        "\n",
        "   * Bagging mainly **reduces variance** and prevents overfitting by averaging many models.\n",
        "   * Boosting mainly **reduces bias** by combining weak learners to create a strong learner.\n",
        "\n",
        "3. **Model Weighting:**\n",
        "\n",
        "   * In Bagging, all models have **equal weight** in the final prediction.\n",
        "   * In Boosting, models are **weighted** based on their performance.\n",
        "\n",
        "4. **Error Handling:**\n",
        "\n",
        "   * Bagging treats all data points equally.\n",
        "   * Boosting gives more importance to misclassified or hard-to-predict samples.\n",
        "\n",
        "In short, Bagging builds models in parallel to reduce variance, while Boosting builds models sequentially to reduce bias.\n"
      ],
      "metadata": {
        "id": "-XSGi0ftwhdx"
      }
    },
    {
      "cell_type": "code",
      "source": [
        "#21. Train a Bagging Classifier using Decision Trees on a sample dataset and print model accuracy.\n",
        "#21. Train a Bagging Classifier using Decision Trees on a sample dataset and print model accuracy.\n",
        "from sklearn.datasets import load_iris\n",
        "from sklearn.model_selection import train_test_split\n",
        "from sklearn.tree import DecisionTreeClassifier\n",
        "from sklearn.ensemble import BaggingClassifier\n",
        "from sklearn.metrics import accuracy_score\n",
        "\n",
        "# Load dataset\n",
        "iris = load_iris()\n",
        "X, y = iris.data, iris.target\n",
        "\n",
        "# Split data into train and test sets\n",
        "X_train, X_test, y_train, y_test = train_test_split(X, y, test_size=0.3, random_state=42)\n",
        "\n",
        "# Initialize base classifier\n",
        "base_clf = DecisionTreeClassifier()\n",
        "\n",
        "# Initialize Bagging Classifier with Decision Trees\n",
        "# Changed 'base_estimator' to 'estimator' for compatibility with newer scikit-learn versions\n",
        "bagging_clf = BaggingClassifier(estimator=base_clf, n_estimators=50, random_state=42)\n",
        "\n",
        "# Train the model\n",
        "bagging_clf.fit(X_train, y_train)\n",
        "\n",
        "# Predict on test data\n",
        "y_pred = bagging_clf.predict(X_test)\n",
        "\n",
        "# Calculate accuracy\n",
        "accuracy = accuracy_score(y_test, y_pred)\n",
        "print(f\"Bagging Classifier Accuracy: {accuracy:.2f}\")\n"
      ],
      "metadata": {
        "colab": {
          "base_uri": "https://localhost:8080/"
        },
        "id": "mEVuOpKbwzSD",
        "outputId": "3bd34cc3-1ac0-41fe-b384-be7bc892317f"
      },
      "execution_count": 2,
      "outputs": [
        {
          "output_type": "stream",
          "name": "stdout",
          "text": [
            "Bagging Classifier Accuracy: 1.00\n"
          ]
        }
      ]
    },
    {
      "cell_type": "code",
      "source": [
        "#22. Train a Bagging Regressor using Decision Trees and evaluate using Mean Squared Error (MSE).\n",
        "# Updated import to fetch_california_housing as load_boston is deprecated\n",
        "from sklearn.datasets import fetch_california_housing\n",
        "from sklearn.model_selection import train_test_split\n",
        "from sklearn.tree import DecisionTreeRegressor\n",
        "from sklearn.ensemble import BaggingRegressor\n",
        "from sklearn.metrics import mean_squared_error\n",
        "\n",
        "# Load dataset - Using California housing dataset\n",
        "housing = fetch_california_housing()\n",
        "X, y = housing.data, housing.target\n",
        "\n",
        "# Split data into train and test sets\n",
        "X_train, X_test, y_train, y_test = train_test_split(X, y, test_size=0.3, random_state=42)\n",
        "\n",
        "# Initialize base regressor\n",
        "base_reg = DecisionTreeRegressor()\n",
        "\n",
        "# Initialize Bagging Regressor\n",
        "# base_estimator is still valid in BaggingRegressor as of scikit-learn 1.3.2\n",
        "# Corrected parameter name from 'base_estimator' to 'estimator'\n",
        "bagging_reg = BaggingRegressor(estimator=base_reg, n_estimators=50, random_state=42)\n",
        "\n",
        "# Train the model\n",
        "bagging_reg.fit(X_train, y_train)\n",
        "\n",
        "# Predict on test data\n",
        "y_pred = bagging_reg.predict(X_test)\n",
        "\n",
        "# Calculate Mean Squared Error\n",
        "mse = mean_squared_error(y_test, y_pred)\n",
        "print(f\"Bagging Regressor Mean Squared Error: {mse:.2f}\")\n"
      ],
      "metadata": {
        "colab": {
          "base_uri": "https://localhost:8080/"
        },
        "id": "5AFC0b3DxdR4",
        "outputId": "56ea87df-8476-4529-f4bc-84e88fb02e64"
      },
      "execution_count": 5,
      "outputs": [
        {
          "output_type": "stream",
          "name": "stdout",
          "text": [
            "Bagging Regressor Mean Squared Error: 0.26\n"
          ]
        }
      ]
    },
    {
      "cell_type": "code",
      "source": [
        "#23. Train a Random Forest Classifier on the Breast Cancer dataset and print feature importance scores.\n",
        "\n",
        "from sklearn.datasets import load_breast_cancer\n",
        "from sklearn.model_selection import train_test_split\n",
        "from sklearn.ensemble import RandomForestClassifier\n",
        "\n",
        "# Load dataset\n",
        "data = load_breast_cancer()\n",
        "X, y = data.data, data.target\n",
        "feature_names = data.feature_names\n",
        "\n",
        "# Split data into train and test sets\n",
        "X_train, X_test, y_train, y_test = train_test_split(X, y, test_size=0.3, random_state=42)\n",
        "\n",
        "# Initialize Random Forest Classifier\n",
        "rf_clf = RandomForestClassifier(n_estimators=100, random_state=42)\n",
        "\n",
        "# Train the model\n",
        "rf_clf.fit(X_train, y_train)\n",
        "\n",
        "# Get feature importance scores\n",
        "importances = rf_clf.feature_importances_\n",
        "\n",
        "# Print feature importance with feature names\n",
        "for name, importance in zip(feature_names, importances):\n",
        "    print(f\"{name}: {importance:.4f}\")\n"
      ],
      "metadata": {
        "colab": {
          "base_uri": "https://localhost:8080/"
        },
        "id": "d6llTbney_jn",
        "outputId": "0e8f9ab9-d113-48c5-b591-fbb6a5190bff"
      },
      "execution_count": 6,
      "outputs": [
        {
          "output_type": "stream",
          "name": "stdout",
          "text": [
            "mean radius: 0.0323\n",
            "mean texture: 0.0111\n",
            "mean perimeter: 0.0601\n",
            "mean area: 0.0538\n",
            "mean smoothness: 0.0062\n",
            "mean compactness: 0.0092\n",
            "mean concavity: 0.0806\n",
            "mean concave points: 0.1419\n",
            "mean symmetry: 0.0033\n",
            "mean fractal dimension: 0.0031\n",
            "radius error: 0.0164\n",
            "texture error: 0.0032\n",
            "perimeter error: 0.0118\n",
            "area error: 0.0295\n",
            "smoothness error: 0.0059\n",
            "compactness error: 0.0046\n",
            "concavity error: 0.0058\n",
            "concave points error: 0.0034\n",
            "symmetry error: 0.0040\n",
            "fractal dimension error: 0.0071\n",
            "worst radius: 0.0780\n",
            "worst texture: 0.0188\n",
            "worst perimeter: 0.0743\n",
            "worst area: 0.1182\n",
            "worst smoothness: 0.0118\n",
            "worst compactness: 0.0175\n",
            "worst concavity: 0.0411\n",
            "worst concave points: 0.1271\n",
            "worst symmetry: 0.0129\n",
            "worst fractal dimension: 0.0069\n"
          ]
        }
      ]
    },
    {
      "cell_type": "code",
      "source": [
        "#24. Train a Random Forest Regressor and compare its performance with a single Decision Tree.\n",
        "from sklearn.datasets import fetch_california_housing\n",
        "from sklearn.model_selection import train_test_split\n",
        "from sklearn.tree import DecisionTreeRegressor\n",
        "from sklearn.ensemble import RandomForestRegressor\n",
        "from sklearn.metrics import mean_squared_error\n",
        "\n",
        "# Load dataset\n",
        "data = fetch_california_housing()\n",
        "X, y = data.data, data.target\n",
        "\n",
        "# Split data into train and test sets\n",
        "X_train, X_test, y_train, y_test = train_test_split(X, y, test_size=0.3, random_state=42)\n",
        "\n",
        "# Initialize models\n",
        "dt_reg = DecisionTreeRegressor(random_state=42)\n",
        "rf_reg = RandomForestRegressor(n_estimators=100, random_state=42)\n",
        "\n",
        "# Train models\n",
        "dt_reg.fit(X_train, y_train)\n",
        "rf_reg.fit(X_train, y_train)\n",
        "\n",
        "# Predict on test data\n",
        "y_pred_dt = dt_reg.predict(X_test)\n",
        "y_pred_rf = rf_reg.predict(X_test)\n",
        "\n",
        "# Calculate MSE\n",
        "mse_dt = mean_squared_error(y_test, y_pred_dt)\n",
        "mse_rf = mean_squared_error(y_test, y_pred_rf)\n",
        "\n",
        "print(f\"Decision Tree MSE: {mse_dt:.4f}\")\n",
        "print(f\"Random Forest MSE: {mse_rf:.4f}\")\n"
      ],
      "metadata": {
        "colab": {
          "base_uri": "https://localhost:8080/"
        },
        "id": "dNz3ysqtzMou",
        "outputId": "7d790272-8ffa-47ac-e52d-ecebb059ed81"
      },
      "execution_count": 7,
      "outputs": [
        {
          "output_type": "stream",
          "name": "stdout",
          "text": [
            "Decision Tree MSE: 0.5280\n",
            "Random Forest MSE: 0.2565\n"
          ]
        }
      ]
    },
    {
      "cell_type": "code",
      "source": [
        "#25. Compute the Out-of-Bag (OOB) Score for a Random Forest Classifier.\n",
        "from sklearn.datasets import load_breast_cancer\n",
        "from sklearn.ensemble import RandomForestClassifier\n",
        "from sklearn.model_selection import train_test_split\n",
        "\n",
        "# Load dataset\n",
        "data = load_breast_cancer()\n",
        "X, y = data.data, data.target\n",
        "\n",
        "# Split data (optional, OOB score doesn't require separate test set)\n",
        "X_train, X_test, y_train, y_test = train_test_split(X, y, test_size=0.3, random_state=42)\n",
        "\n",
        "# Initialize Random Forest with OOB enabled\n",
        "rf_clf = RandomForestClassifier(n_estimators=100, oob_score=True, random_state=42)\n",
        "\n",
        "# Train the model on training data\n",
        "rf_clf.fit(X_train, y_train)\n",
        "\n",
        "# Print OOB score\n",
        "print(f\"OOB Score: {rf_clf.oob_score_:.4f}\")\n"
      ],
      "metadata": {
        "colab": {
          "base_uri": "https://localhost:8080/"
        },
        "id": "CSxuUfWyzeiy",
        "outputId": "096b2b42-ea06-4d1c-8f01-38cae599024b"
      },
      "execution_count": 8,
      "outputs": [
        {
          "output_type": "stream",
          "name": "stdout",
          "text": [
            "OOB Score: 0.9548\n"
          ]
        }
      ]
    },
    {
      "cell_type": "code",
      "source": [
        "#26. Train a Bagging Classifier using SVM as a base estimator and print accuracy.\n",
        "from sklearn.datasets import load_iris\n",
        "from sklearn.model_selection import train_test_split\n",
        "from sklearn.svm import SVC\n",
        "from sklearn.ensemble import BaggingClassifier\n",
        "from sklearn.metrics import accuracy_score\n",
        "\n",
        "# Load dataset\n",
        "iris = load_iris()\n",
        "X, y = iris.data, iris.target\n",
        "\n",
        "# Split data into train and test sets\n",
        "X_train, X_test, y_train, y_test = train_test_split(X, y, test_size=0.3, random_state=42)\n",
        "\n",
        "# Initialize base estimator (SVM)\n",
        "base_svm = SVC(probability=True, kernel='rbf', random_state=42)\n",
        "\n",
        "# Initialize Bagging Classifier with SVM base estimator\n",
        "# Changed 'base_estimator' to 'estimator' for compatibility with newer scikit-learn versions\n",
        "bagging_svm = BaggingClassifier(estimator=base_svm, n_estimators=20, random_state=42) # Changed base_estimator to estimator\n",
        "\n",
        "# Train the model\n",
        "bagging_svm.fit(X_train, y_train)\n",
        "\n",
        "# Predict on test data\n",
        "y_pred = bagging_svm.predict(X_test)\n",
        "\n",
        "# Calculate and print accuracy\n",
        "accuracy = accuracy_score(y_test, y_pred)\n",
        "print(f\"Bagging Classifier with SVM Accuracy: {accuracy:.2f}\")\n"
      ],
      "metadata": {
        "colab": {
          "base_uri": "https://localhost:8080/"
        },
        "id": "mUrNM7Aozn6-",
        "outputId": "9957c816-74c6-4c29-f869-c1fea0ab7e46"
      },
      "execution_count": 10,
      "outputs": [
        {
          "output_type": "stream",
          "name": "stdout",
          "text": [
            "Bagging Classifier with SVM Accuracy: 1.00\n"
          ]
        }
      ]
    },
    {
      "cell_type": "code",
      "source": [
        "#27. Train a Random Forest Classifier with different numbers of trees and compare accuracy.\n",
        "from sklearn.datasets import load_iris\n",
        "from sklearn.model_selection import train_test_split\n",
        "from sklearn.ensemble import RandomForestClassifier\n",
        "from sklearn.metrics import accuracy_score\n",
        "\n",
        "# Load dataset\n",
        "iris = load_iris()\n",
        "X, y = iris.data, iris.target\n",
        "\n",
        "# Split data\n",
        "X_train, X_test, y_train, y_test = train_test_split(X, y, test_size=0.3, random_state=42)\n",
        "\n",
        "# Different numbers of trees to try\n",
        "n_trees_list = [5, 10, 50, 100, 200]\n",
        "\n",
        "for n_trees in n_trees_list:\n",
        "    # Initialize Random Forest\n",
        "    rf_clf = RandomForestClassifier(n_estimators=n_trees, random_state=42)\n",
        "\n",
        "    # Train\n",
        "    rf_clf.fit(X_train, y_train)\n",
        "\n",
        "    # Predict\n",
        "    y_pred = rf_clf.predict(X_test)\n",
        "\n",
        "    # Accuracy\n",
        "    accuracy = accuracy_score(y_test, y_pred)\n",
        "    print(f\"Number of Trees: {n_trees} - Accuracy: {accuracy:.4f}\")\n"
      ],
      "metadata": {
        "colab": {
          "base_uri": "https://localhost:8080/"
        },
        "id": "Ne5BmvY2z5qe",
        "outputId": "9769de56-c352-4969-eade-b46fc2a8d740"
      },
      "execution_count": 11,
      "outputs": [
        {
          "output_type": "stream",
          "name": "stdout",
          "text": [
            "Number of Trees: 5 - Accuracy: 1.0000\n",
            "Number of Trees: 10 - Accuracy: 1.0000\n",
            "Number of Trees: 50 - Accuracy: 1.0000\n",
            "Number of Trees: 100 - Accuracy: 1.0000\n",
            "Number of Trees: 200 - Accuracy: 1.0000\n"
          ]
        }
      ]
    },
    {
      "cell_type": "code",
      "source": [
        "#28. Train a Bagging Classifier using Logistic Regression as a base estimator and print AUC score.\n",
        "from sklearn.datasets import load_iris\n",
        "from sklearn.model_selection import train_test_split\n",
        "from sklearn.linear_model import LogisticRegression\n",
        "from sklearn.ensemble import BaggingClassifier\n",
        "from sklearn.metrics import roc_auc_score\n",
        "from sklearn.preprocessing import label_binarize\n",
        "\n",
        "# Load dataset\n",
        "iris = load_iris()\n",
        "X, y = iris.data, iris.target\n",
        "\n",
        "# For AUC, convert to binary classification (e.g., class 0 vs rest)\n",
        "# We binarize for one class vs the rest, which is suitable for standard AUC\n",
        "# For multi-class AUC, you would need a different approach (e.g., one-vs-rest or one-vs-one)\n",
        "# For simplicity here, we focus on class 0 vs others.\n",
        "y_binary = (y == 0).astype(int)\n",
        "\n",
        "# Split data\n",
        "X_train, X_test, y_train, y_test = train_test_split(X, y_binary, test_size=0.3, random_state=42)\n",
        "\n",
        "# Base estimator: Logistic Regression\n",
        "# Increased max_iter to ensure convergence\n",
        "base_lr = LogisticRegression(max_iter=1000, solver='liblinear')\n",
        "\n",
        "# Bagging Classifier\n",
        "# Changed 'base_estimator' to 'estimator' for compatibility with newer scikit-learn versions\n",
        "bagging_lr = BaggingClassifier(estimator=base_lr, n_estimators=50, random_state=42)\n",
        "\n",
        "# Train\n",
        "bagging_lr.fit(X_train, y_train)\n",
        "\n",
        "# Predict probabilities\n",
        "# Get probability of the positive class (class 1 in y_binary, which corresponds to class 0 in original y)\n",
        "y_prob = bagging_lr.predict_proba(X_test)[:, 1]\n",
        "\n",
        "# Calculate AUC score\n",
        "auc = roc_auc_score(y_test, y_prob)\n",
        "print(f\"Bagging Classifier with Logistic Regression AUC: {auc:.4f}\")\n"
      ],
      "metadata": {
        "colab": {
          "base_uri": "https://localhost:8080/"
        },
        "id": "IBqhDfwI0EUf",
        "outputId": "d3403803-7f7d-4cac-deaf-f2cc642913f7"
      },
      "execution_count": 13,
      "outputs": [
        {
          "output_type": "stream",
          "name": "stdout",
          "text": [
            "Bagging Classifier with Logistic Regression AUC: 1.0000\n"
          ]
        }
      ]
    },
    {
      "cell_type": "code",
      "source": [
        "#29.  Train a Random Forest Regressor and analyze feature importance scores.\n",
        "from sklearn.datasets import fetch_california_housing\n",
        "from sklearn.model_selection import train_test_split\n",
        "from sklearn.ensemble import RandomForestRegressor\n",
        "\n",
        "# Load dataset\n",
        "data = fetch_california_housing()\n",
        "X, y = data.data, data.target\n",
        "feature_names = data.feature_names\n",
        "\n",
        "# Split data\n",
        "X_train, X_test, y_train, y_test = train_test_split(X, y, test_size=0.3, random_state=42)\n",
        "\n",
        "# Initialize and train Random Forest Regressor\n",
        "rf_reg = RandomForestRegressor(n_estimators=100, random_state=42)\n",
        "rf_reg.fit(X_train, y_train)\n",
        "\n",
        "# Get feature importances\n",
        "importances = rf_reg.feature_importances_\n",
        "\n",
        "# Print feature importance with feature names\n",
        "for name, importance in zip(feature_names, importances):\n",
        "    print(f\"{name}: {importance:.4f}\")\n"
      ],
      "metadata": {
        "colab": {
          "base_uri": "https://localhost:8080/"
        },
        "id": "DrEUlKkS0mYc",
        "outputId": "f8b542c4-3495-488d-c39e-ba1b31b81c95"
      },
      "execution_count": 14,
      "outputs": [
        {
          "output_type": "stream",
          "name": "stdout",
          "text": [
            "MedInc: 0.5260\n",
            "HouseAge: 0.0547\n",
            "AveRooms: 0.0472\n",
            "AveBedrms: 0.0300\n",
            "Population: 0.0317\n",
            "AveOccup: 0.1382\n",
            "Latitude: 0.0861\n",
            "Longitude: 0.0861\n"
          ]
        }
      ]
    },
    {
      "cell_type": "code",
      "source": [
        "#30. Train an ensemble model using both Bagging and Random Forest and compare accuracy.\n",
        "from sklearn.datasets import load_iris\n",
        "from sklearn.model_selection import train_test_split\n",
        "from sklearn.tree import DecisionTreeClassifier\n",
        "from sklearn.ensemble import BaggingClassifier, RandomForestClassifier\n",
        "from sklearn.metrics import accuracy_score\n",
        "\n",
        "# Load dataset\n",
        "iris = load_iris()\n",
        "X, y = iris.data, iris.target\n",
        "\n",
        "# Split data\n",
        "X_train, X_test, y_train, y_test = train_test_split(X, y, test_size=0.3, random_state=42)\n",
        "\n",
        "# Initialize base estimator for bagging\n",
        "base_dt = DecisionTreeClassifier(random_state=42)\n",
        "\n",
        "# Bagging Classifier\n",
        "# Changed 'base_estimator' to 'estimator' for compatibility with newer scikit-learn versions\n",
        "bagging_clf = BaggingClassifier(estimator=base_dt, n_estimators=50, random_state=42) # Corrected parameter name\n",
        "bagging_clf.fit(X_train, y_train)\n",
        "y_pred_bagging = bagging_clf.predict(X_test)\n",
        "accuracy_bagging = accuracy_score(y_test, y_pred_bagging)\n",
        "\n",
        "# Random Forest Classifier\n",
        "rf_clf = RandomForestClassifier(n_estimators=50, random_state=42)\n",
        "rf_clf.fit(X_train, y_train)\n",
        "y_pred_rf = rf_clf.predict(X_test)\n",
        "accuracy_rf = accuracy_score(y_test, y_pred_rf)\n",
        "\n",
        "print(f\"Bagging Classifier Accuracy: {accuracy_bagging:.4f}\")\n",
        "print(f\"Random Forest Classifier Accuracy: {accuracy_rf:.4f}\")\n"
      ],
      "metadata": {
        "colab": {
          "base_uri": "https://localhost:8080/"
        },
        "id": "re0l88yq00gX",
        "outputId": "a790732b-95de-47ed-9761-c37d359b7c9a"
      },
      "execution_count": 16,
      "outputs": [
        {
          "output_type": "stream",
          "name": "stdout",
          "text": [
            "Bagging Classifier Accuracy: 1.0000\n",
            "Random Forest Classifier Accuracy: 1.0000\n"
          ]
        }
      ]
    },
    {
      "cell_type": "code",
      "source": [
        "#31. Train a Random Forest Classifier and tune hyperparameters using GridSearchCV.\n",
        "from sklearn.datasets import load_iris\n",
        "from sklearn.model_selection import train_test_split, GridSearchCV\n",
        "from sklearn.ensemble import RandomForestClassifier\n",
        "from sklearn.metrics import accuracy_score\n",
        "\n",
        "# Load dataset\n",
        "iris = load_iris()\n",
        "X, y = iris.data, iris.target\n",
        "\n",
        "# Split data\n",
        "X_train, X_test, y_train, y_test = train_test_split(X, y, test_size=0.3, random_state=42)\n",
        "\n",
        "# Initialize Random Forest\n",
        "rf = RandomForestClassifier(random_state=42)\n",
        "\n",
        "# Define hyperparameter grid to search\n",
        "param_grid = {\n",
        "    'n_estimators': [50, 100, 200],\n",
        "    'max_depth': [None, 5, 10],\n",
        "    'min_samples_split': [2, 5],\n",
        "    'min_samples_leaf': [1, 2],\n",
        "    'max_features': ['auto', 'sqrt']\n",
        "}\n",
        "\n",
        "# Initialize GridSearchCV\n",
        "grid_search = GridSearchCV(estimator=rf, param_grid=param_grid, cv=5, n_jobs=-1, verbose=1)\n",
        "\n",
        "# Fit GridSearchCV\n",
        "grid_search.fit(X_train, y_train)\n",
        "\n",
        "# Best hyperparameters\n",
        "print(\"Best Hyperparameters:\", grid_search.best_params_)\n",
        "\n",
        "# Predict using best estimator\n",
        "best_rf = grid_search.best_estimator_\n",
        "y_pred = best_rf.predict(X_test)\n",
        "\n",
        "# Accuracy\n",
        "accuracy = accuracy_score(y_test, y_pred)\n",
        "print(f\"Accuracy with Best Params: {accuracy:.4f}\")\n"
      ],
      "metadata": {
        "colab": {
          "base_uri": "https://localhost:8080/"
        },
        "id": "rGQ5otUG1Fmd",
        "outputId": "fcd75db4-45e7-40bc-ffbd-fa4ef09ba37d"
      },
      "execution_count": 17,
      "outputs": [
        {
          "output_type": "stream",
          "name": "stdout",
          "text": [
            "Fitting 5 folds for each of 72 candidates, totalling 360 fits\n",
            "Best Hyperparameters: {'max_depth': None, 'max_features': 'sqrt', 'min_samples_leaf': 1, 'min_samples_split': 2, 'n_estimators': 100}\n",
            "Accuracy with Best Params: 1.0000\n"
          ]
        },
        {
          "output_type": "stream",
          "name": "stderr",
          "text": [
            "/usr/local/lib/python3.11/dist-packages/sklearn/model_selection/_validation.py:528: FitFailedWarning: \n",
            "180 fits failed out of a total of 360.\n",
            "The score on these train-test partitions for these parameters will be set to nan.\n",
            "If these failures are not expected, you can try to debug them by setting error_score='raise'.\n",
            "\n",
            "Below are more details about the failures:\n",
            "--------------------------------------------------------------------------------\n",
            "180 fits failed with the following error:\n",
            "Traceback (most recent call last):\n",
            "  File \"/usr/local/lib/python3.11/dist-packages/sklearn/model_selection/_validation.py\", line 866, in _fit_and_score\n",
            "    estimator.fit(X_train, y_train, **fit_params)\n",
            "  File \"/usr/local/lib/python3.11/dist-packages/sklearn/base.py\", line 1382, in wrapper\n",
            "    estimator._validate_params()\n",
            "  File \"/usr/local/lib/python3.11/dist-packages/sklearn/base.py\", line 436, in _validate_params\n",
            "    validate_parameter_constraints(\n",
            "  File \"/usr/local/lib/python3.11/dist-packages/sklearn/utils/_param_validation.py\", line 98, in validate_parameter_constraints\n",
            "    raise InvalidParameterError(\n",
            "sklearn.utils._param_validation.InvalidParameterError: The 'max_features' parameter of RandomForestClassifier must be an int in the range [1, inf), a float in the range (0.0, 1.0], a str among {'sqrt', 'log2'} or None. Got 'auto' instead.\n",
            "\n",
            "  warnings.warn(some_fits_failed_message, FitFailedWarning)\n",
            "/usr/local/lib/python3.11/dist-packages/sklearn/model_selection/_search.py:1108: UserWarning: One or more of the test scores are non-finite: [       nan        nan        nan        nan        nan        nan\n",
            "        nan        nan        nan        nan        nan        nan\n",
            " 0.93333333 0.94285714 0.94285714 0.93333333 0.94285714 0.94285714\n",
            " 0.94285714 0.93333333 0.93333333 0.93333333 0.93333333 0.93333333\n",
            "        nan        nan        nan        nan        nan        nan\n",
            "        nan        nan        nan        nan        nan        nan\n",
            " 0.93333333 0.94285714 0.94285714 0.93333333 0.94285714 0.94285714\n",
            " 0.94285714 0.93333333 0.93333333 0.93333333 0.93333333 0.93333333\n",
            "        nan        nan        nan        nan        nan        nan\n",
            "        nan        nan        nan        nan        nan        nan\n",
            " 0.93333333 0.94285714 0.94285714 0.93333333 0.94285714 0.94285714\n",
            " 0.94285714 0.93333333 0.93333333 0.93333333 0.93333333 0.93333333]\n",
            "  warnings.warn(\n"
          ]
        }
      ]
    },
    {
      "cell_type": "code",
      "source": [
        "#32. Train a Bagging Regressor with different numbers of base estimators and compare performance.\n",
        "from sklearn.datasets import fetch_california_housing\n",
        "from sklearn.model_selection import train_test_split\n",
        "from sklearn.tree import DecisionTreeRegressor\n",
        "from sklearn.ensemble import BaggingRegressor\n",
        "from sklearn.metrics import mean_squared_error\n",
        "\n",
        "# Load dataset\n",
        "data = fetch_california_housing()\n",
        "X, y = data.data, data.target\n",
        "\n",
        "# Split data\n",
        "X_train, X_test, y_train, y_test = train_test_split(X, y, test_size=0.3, random_state=42)\n",
        "\n",
        "# Different numbers of base estimators to try\n",
        "n_estimators_list = [5, 10, 50, 100]\n",
        "\n",
        "for n in n_estimators_list:\n",
        "    # Initialize Bagging Regressor\n",
        "    # Changed 'base_estimator' to 'estimator' for compatibility with newer scikit-learn versions\n",
        "    bagging_reg = BaggingRegressor(estimator=DecisionTreeRegressor(), n_estimators=n, random_state=42)\n",
        "\n",
        "    # Train model\n",
        "    bagging_reg.fit(X_train, y_train)\n",
        "\n",
        "    # Predict\n",
        "    y_pred = bagging_reg.predict(X_test)\n",
        "\n",
        "    # Calculate MSE\n",
        "    mse = mean_squared_error(y_test, y_pred)\n",
        "\n",
        "    print(f\"Number of Estimators: {n} - MSE: {mse:.4f}\")\n",
        "\n"
      ],
      "metadata": {
        "colab": {
          "base_uri": "https://localhost:8080/"
        },
        "id": "SrxfSik91arW",
        "outputId": "4e41bb64-ad71-4dc7-848b-9a9ffaead5e2"
      },
      "execution_count": 19,
      "outputs": [
        {
          "output_type": "stream",
          "name": "stdout",
          "text": [
            "Number of Estimators: 5 - MSE: 0.3168\n",
            "Number of Estimators: 10 - MSE: 0.2862\n",
            "Number of Estimators: 50 - MSE: 0.2579\n",
            "Number of Estimators: 100 - MSE: 0.2568\n"
          ]
        }
      ]
    },
    {
      "cell_type": "code",
      "source": [
        "#33.  Train a Random Forest Classifier and analyze misclassified samples.\n",
        "from sklearn.datasets import load_iris\n",
        "from sklearn.model_selection import train_test_split\n",
        "from sklearn.ensemble import RandomForestClassifier\n",
        "import numpy as np\n",
        "\n",
        "# Load dataset\n",
        "iris = load_iris()\n",
        "X, y = iris.data, iris.target\n",
        "\n",
        "# Split data\n",
        "X_train, X_test, y_train, y_test = train_test_split(X, y, test_size=0.3, random_state=42)\n",
        "\n",
        "# Train Random Forest Classifier\n",
        "rf_clf = RandomForestClassifier(n_estimators=100, random_state=42)\n",
        "rf_clf.fit(X_train, y_train)\n",
        "\n",
        "# Predict on test set\n",
        "y_pred = rf_clf.predict(X_test)\n",
        "\n",
        "# Find misclassified samples\n",
        "misclassified_indices = np.where(y_pred != y_test)[0]\n",
        "\n",
        "print(f\"Number of misclassified samples: {len(misclassified_indices)}\")\n",
        "print(\"Misclassified samples (index in test set, true label, predicted label):\")\n",
        "\n",
        "for idx in misclassified_indices:\n",
        "    print(f\"Index: {idx}, True: {y_test[idx]}, Predicted: {y_pred[idx]}\")\n"
      ],
      "metadata": {
        "colab": {
          "base_uri": "https://localhost:8080/"
        },
        "id": "AapXdDTa15Ou",
        "outputId": "e69b5111-f58d-47b3-a652-d18b9350b376"
      },
      "execution_count": 20,
      "outputs": [
        {
          "output_type": "stream",
          "name": "stdout",
          "text": [
            "Number of misclassified samples: 0\n",
            "Misclassified samples (index in test set, true label, predicted label):\n"
          ]
        }
      ]
    },
    {
      "cell_type": "code",
      "source": [
        "#34. Train a Bagging Classifier and compare its performance with a single Decision Tree Classifier.\n",
        "from sklearn.datasets import load_iris\n",
        "from sklearn.model_selection import train_test_split\n",
        "from sklearn.tree import DecisionTreeClassifier\n",
        "from sklearn.ensemble import BaggingClassifier\n",
        "from sklearn.metrics import accuracy_score\n",
        "\n",
        "# Load dataset\n",
        "iris = load_iris()\n",
        "X, y = iris.data, iris.target\n",
        "\n",
        "# Split data\n",
        "X_train, X_test, y_train, y_test = train_test_split(X, y, test_size=0.3, random_state=42)\n",
        "\n",
        "# Single Decision Tree\n",
        "dt_clf = DecisionTreeClassifier(random_state=42)\n",
        "dt_clf.fit(X_train, y_train)\n",
        "y_pred_dt = dt_clf.predict(X_test)\n",
        "accuracy_dt = accuracy_score(y_test, y_pred_dt)\n",
        "\n",
        "# Bagging Classifier with Decision Trees\n",
        "# Changed 'base_estimator' to 'estimator' for compatibility with newer scikit-learn versions\n",
        "bagging_clf = BaggingClassifier(estimator=DecisionTreeClassifier(), n_estimators=50, random_state=42) # Corrected parameter name\n",
        "bagging_clf.fit(X_train, y_train)\n",
        "y_pred_bagging = bagging_clf.predict(X_test)\n",
        "accuracy_bagging = accuracy_score(y_test, y_pred_bagging)\n",
        "\n",
        "print(f\"Decision Tree Accuracy: {accuracy_dt:.4f}\")\n",
        "print(f\"Bagging Classifier Accuracy: {accuracy_bagging:.4f}\")\n"
      ],
      "metadata": {
        "colab": {
          "base_uri": "https://localhost:8080/"
        },
        "id": "tSXfRHzR2Jhf",
        "outputId": "12debae8-03b6-4a73-dabf-3408beb7611d"
      },
      "execution_count": 22,
      "outputs": [
        {
          "output_type": "stream",
          "name": "stdout",
          "text": [
            "Decision Tree Accuracy: 1.0000\n",
            "Bagging Classifier Accuracy: 1.0000\n"
          ]
        }
      ]
    },
    {
      "cell_type": "code",
      "source": [
        "#35. Train a Random Forest Classifier and visualize the confusion matrix.\n",
        "import matplotlib.pyplot as plt\n",
        "from sklearn.datasets import load_iris\n",
        "from sklearn.model_selection import train_test_split\n",
        "from sklearn.ensemble import RandomForestClassifier\n",
        "from sklearn.metrics import confusion_matrix, ConfusionMatrixDisplay\n",
        "\n",
        "# Load dataset\n",
        "iris = load_iris()\n",
        "X, y = iris.data, iris.target\n",
        "\n",
        "# Split data\n",
        "X_train, X_test, y_train, y_test = train_test_split(X, y, test_size=0.3, random_state=42)\n",
        "\n",
        "# Train Random Forest Classifier\n",
        "rf_clf = RandomForestClassifier(n_estimators=100, random_state=42)\n",
        "rf_clf.fit(X_train, y_train)\n",
        "\n",
        "# Predict on test set\n",
        "y_pred = rf_clf.predict(X_test)\n",
        "\n",
        "# Compute confusion matrix\n",
        "cm = confusion_matrix(y_test, y_pred)\n",
        "\n",
        "# Visualize confusion matrix\n",
        "disp = ConfusionMatrixDisplay(confusion_matrix=cm, display_labels=iris.target_names)\n",
        "disp.plot(cmap=plt.cm.Blues)\n",
        "plt.title(\"Random Forest Confusion Matrix\")\n",
        "plt.show()\n"
      ],
      "metadata": {
        "colab": {
          "base_uri": "https://localhost:8080/",
          "height": 472
        },
        "id": "SlK6j-Kh2bGa",
        "outputId": "810f53a5-9af7-417a-fb79-63defc98cee1"
      },
      "execution_count": 23,
      "outputs": [
        {
          "output_type": "display_data",
          "data": {
            "text/plain": [
              "<Figure size 640x480 with 2 Axes>"
            ],
            "image/png": "[encoded data removed]"
          },
          "metadata": {}
        }
      ]
    },
    {
      "cell_type": "code",
      "source": [
        "#36. Train a Stacking Classifier using Decision Trees, SVM, and Logistic Regression, and compare accuracy.\n",
        "from sklearn.datasets import load_iris\n",
        "from sklearn.model_selection import train_test_split\n",
        "from sklearn.tree import DecisionTreeClassifier\n",
        "from sklearn.svm import SVC\n",
        "from sklearn.linear_model import LogisticRegression\n",
        "from sklearn.ensemble import StackingClassifier\n",
        "from sklearn.metrics import accuracy_score\n",
        "\n",
        "# Load dataset\n",
        "iris = load_iris()\n",
        "X, y = iris.data, iris.target\n",
        "\n",
        "# Split data\n",
        "X_train, X_test, y_train, y_test = train_test_split(X, y, test_size=0.3, random_state=42)\n",
        "\n",
        "# Base learners\n",
        "estimators = [\n",
        "    ('dt', DecisionTreeClassifier(random_state=42)),\n",
        "    ('svm', SVC(probability=True, random_state=42)),\n",
        "    ('lr', LogisticRegression(max_iter=1000, random_state=42))\n",
        "]\n",
        "\n",
        "# Stacking Classifier with Logistic Regression as final estimator\n",
        "stacking_clf = StackingClassifier(estimators=estimators, final_estimator=LogisticRegression(), cv=5)\n",
        "stacking_clf.fit(X_train, y_train)\n",
        "\n",
        "# Predict and evaluate Stacking Classifier\n",
        "y_pred_stack = stacking_clf.predict(X_test)\n",
        "acc_stack = accuracy_score(y_test, y_pred_stack)\n",
        "\n",
        "print(f\"Stacking Classifier Accuracy: {acc_stack:.4f}\")\n",
        "\n",
        "# Optionally, compare with individual base learners\n",
        "for name, model in estimators:\n",
        "    model.fit(X_train, y_train)\n",
        "    y_pred = model.predict(X_test)\n",
        "    acc = accuracy_score(y_test, y_pred)\n",
        "    print(f\"{name} Accuracy: {acc:.4f}\")\n"
      ],
      "metadata": {
        "colab": {
          "base_uri": "https://localhost:8080/"
        },
        "id": "b8jrxTKP2mlK",
        "outputId": "b04a9dc1-1581-4e12-8f80-98d7b0962674"
      },
      "execution_count": 24,
      "outputs": [
        {
          "output_type": "stream",
          "name": "stdout",
          "text": [
            "Stacking Classifier Accuracy: 1.0000\n",
            "dt Accuracy: 1.0000\n",
            "svm Accuracy: 1.0000\n",
            "lr Accuracy: 1.0000\n"
          ]
        }
      ]
    },
    {
      "cell_type": "code",
      "source": [
        "#37. Train a Random Forest Classifier and print the top 5 most important features.\n",
        "from sklearn.datasets import load_iris\n",
        "from sklearn.ensemble import RandomForestClassifier\n",
        "from sklearn.model_selection import train_test_split\n",
        "import numpy as np\n",
        "\n",
        "# Load data\n",
        "iris = load_iris()\n",
        "X, y = iris.data, iris.target\n",
        "feature_names = iris.feature_names\n",
        "\n",
        "# Split data\n",
        "X_train, X_test, y_train, y_test = train_test_split(X, y, test_size=0.3, random_state=42)\n",
        "\n",
        "# Train Random Forest\n",
        "rf = RandomForestClassifier(n_estimators=100, random_state=42)\n",
        "rf.fit(X_train, y_train)\n",
        "\n",
        "# Get feature importances\n",
        "importances = rf.feature_importances_\n",
        "\n",
        "# Get indices of top 5 features\n",
        "top5_idx = np.argsort(importances)[::-1][:5]\n",
        "\n",
        "print(\"Top 5 important features:\")\n",
        "for i in top5_idx:\n",
        "    print(f\"{feature_names[i]}: {importances[i]:.4f}\")\n"
      ],
      "metadata": {
        "colab": {
          "base_uri": "https://localhost:8080/"
        },
        "id": "jZXiHMuJ2xmU",
        "outputId": "825b50e9-f6fe-4b5c-8686-8e1e48037ce0"
      },
      "execution_count": 25,
      "outputs": [
        {
          "output_type": "stream",
          "name": "stdout",
          "text": [
            "Top 5 important features:\n",
            "petal width (cm): 0.4340\n",
            "petal length (cm): 0.4173\n",
            "sepal length (cm): 0.1041\n",
            "sepal width (cm): 0.0446\n"
          ]
        }
      ]
    },
    {
      "cell_type": "code",
      "source": [
        "#38 Train a Bagging Classifier and evaluate performance using Precision, Recall, and F1-score.\n",
        "from sklearn.datasets import load_iris\n",
        "from sklearn.model_selection import train_test_split\n",
        "from sklearn.ensemble import BaggingClassifier\n",
        "from sklearn.tree import DecisionTreeClassifier\n",
        "from sklearn.metrics import precision_score, recall_score, f1_score\n",
        "\n",
        "# Load dataset\n",
        "iris = load_iris()\n",
        "X, y = iris.data, iris.target\n",
        "\n",
        "# Split data\n",
        "X_train, X_test, y_train, y_test = train_test_split(X, y, test_size=0.3, random_state=42)\n",
        "\n",
        "# Initialize Bagging Classifier with Decision Trees\n",
        "# Changed 'base_estimator' to 'estimator' for compatibility with newer scikit-learn versions\n",
        "bagging_clf = BaggingClassifier(estimator=DecisionTreeClassifier(), n_estimators=50, random_state=42) # Corrected parameter name\n",
        "bagging_clf.fit(X_train, y_train)\n",
        "\n",
        "# Predict on test data\n",
        "y_pred = bagging_clf.predict(X_test)\n",
        "\n",
        "# Evaluate performance (average='macro' for multi-class)\n",
        "precision = precision_score(y_test, y_pred, average='macro')\n",
        "recall = recall_score(y_test, y_pred, average='macro')\n",
        "f1 = f1_score(y_test, y_pred, average='macro')\n",
        "\n",
        "print(f\"Precision: {precision:.4f}\")\n",
        "print(f\"Recall:    {recall:.4f}\")\n",
        "print(f\"F1-score:  {f1:.4f}\")\n"
      ],
      "metadata": {
        "colab": {
          "base_uri": "https://localhost:8080/"
        },
        "id": "LtQZW8a026_0",
        "outputId": "d3c5ac67-761c-4a7b-ef96-e695dc59167a"
      },
      "execution_count": 27,
      "outputs": [
        {
          "output_type": "stream",
          "name": "stdout",
          "text": [
            "Precision: 1.0000\n",
            "Recall:    1.0000\n",
            "F1-score:  1.0000\n"
          ]
        }
      ]
    },
    {
      "cell_type": "code",
      "source": [
        "#39. Train a Random Forest Classifier and analyze the effect of max_depth on accuracy.\n",
        "from sklearn.datasets import load_iris\n",
        "from sklearn.model_selection import train_test_split\n",
        "from sklearn.ensemble import RandomForestClassifier\n",
        "from sklearn.metrics import accuracy_score\n",
        "\n",
        "# Load dataset\n",
        "iris = load_iris()\n",
        "X, y = iris.data, iris.target\n",
        "\n",
        "# Split data\n",
        "X_train, X_test, y_train, y_test = train_test_split(X, y, test_size=0.3, random_state=42)\n",
        "\n",
        "# Test different max_depth values\n",
        "max_depth_values = [None, 2, 4, 6, 8, 10]\n",
        "\n",
        "for depth in max_depth_values:\n",
        "    rf = RandomForestClassifier(n_estimators=100, max_depth=depth, random_state=42)\n",
        "    rf.fit(X_train, y_train)\n",
        "    y_pred = rf.predict(X_test)\n",
        "    accuracy = accuracy_score(y_test, y_pred)\n",
        "    print(f\"max_depth={depth}: Accuracy = {accuracy:.4f}\")\n"
      ],
      "metadata": {
        "colab": {
          "base_uri": "https://localhost:8080/"
        },
        "id": "rbZjLTHy3JF6",
        "outputId": "ab713ece-8b3c-4e23-b9fd-20478fa599e1"
      },
      "execution_count": 28,
      "outputs": [
        {
          "output_type": "stream",
          "name": "stdout",
          "text": [
            "max_depth=None: Accuracy = 1.0000\n",
            "max_depth=2: Accuracy = 1.0000\n",
            "max_depth=4: Accuracy = 1.0000\n",
            "max_depth=6: Accuracy = 1.0000\n",
            "max_depth=8: Accuracy = 1.0000\n",
            "max_depth=10: Accuracy = 1.0000\n"
          ]
        }
      ]
    },
    {
      "cell_type": "code",
      "source": [
        "#40. Train a Bagging Regressor using different base estimators (DecisionTree and KNeighbors) and compare performance.\n",
        "from sklearn.datasets import fetch_california_housing\n",
        "from sklearn.model_selection import train_test_split\n",
        "from sklearn.ensemble import BaggingRegressor\n",
        "from sklearn.tree import DecisionTreeRegressor\n",
        "from sklearn.neighbors import KNeighborsRegressor\n",
        "from sklearn.metrics import mean_squared_error\n",
        "\n",
        "# Load dataset\n",
        "data = fetch_california_housing()\n",
        "X, y = data.data, data.target\n",
        "\n",
        "# Split data\n",
        "X_train, X_test, y_train, y_test = train_test_split(X, y, test_size=0.3, random_state=42)\n",
        "\n",
        "# Bagging with Decision Tree base estimator\n",
        "# Changed 'base_estimator' to 'estimator' for compatibility with newer scikit-learn versions\n",
        "bagging_dt = BaggingRegressor(estimator=DecisionTreeRegressor(), n_estimators=50, random_state=42)\n",
        "bagging_dt.fit(X_train, y_train)\n",
        "y_pred_dt = bagging_dt.predict(X_test)\n",
        "mse_dt = mean_squared_error(y_test, y_pred_dt)\n",
        "\n",
        "# Bagging with KNeighbors base estimator\n",
        "# Changed 'base_estimator' to 'estimator' for compatibility with newer scikit-learn versions\n",
        "bagging_knn = BaggingRegressor(estimator=KNeighborsRegressor(), n_estimators=50, random_state=42)\n",
        "bagging_knn.fit(X_train, y_train)\n",
        "y_pred_knn = bagging_knn.predict(X_test)\n",
        "mse_knn = mean_squared_error(y_test, y_pred_knn)\n",
        "\n",
        "print(f\"Bagging with Decision Tree MSE: {mse_dt:.4f}\")\n",
        "print(f\"Bagging with KNeighbors MSE:    {mse_knn:.4f}\")\n"
      ],
      "metadata": {
        "colab": {
          "base_uri": "https://localhost:8080/"
        },
        "id": "0LIjBR7x3Tq0",
        "outputId": "f53281c2-a17c-4738-cdc5-38d7b6d38aea"
      },
      "execution_count": 30,
      "outputs": [
        {
          "output_type": "stream",
          "name": "stdout",
          "text": [
            "Bagging with Decision Tree MSE: 0.2579\n",
            "Bagging with KNeighbors MSE:    1.1021\n"
          ]
        }
      ]
    },
    {
      "cell_type": "code",
      "source": [
        "#41. Train a Random Forest Classifier and evaluate its performance using ROC-AUC Score.\n",
        "from sklearn.datasets import load_breast_cancer\n",
        "from sklearn.model_selection import train_test_split\n",
        "from sklearn.ensemble import RandomForestClassifier\n",
        "from sklearn.metrics import roc_auc_score\n",
        "\n",
        "# Load dataset\n",
        "data = load_breast_cancer()\n",
        "X, y = data.data, data.target\n",
        "\n",
        "# Split data\n",
        "X_train, X_test, y_train, y_test = train_test_split(X, y, test_size=0.3, random_state=42)\n",
        "\n",
        "# Train Random Forest\n",
        "rf = RandomForestClassifier(n_estimators=100, random_state=42)\n",
        "rf.fit(X_train, y_train)\n",
        "\n",
        "# Predict probabilities for positive class\n",
        "y_probs = rf.predict_proba(X_test)[:, 1]\n",
        "\n",
        "# Calculate ROC-AUC score\n",
        "roc_auc = roc_auc_score(y_test, y_probs)\n",
        "print(f\"ROC-AUC Score: {roc_auc:.4f}\")\n"
      ],
      "metadata": {
        "colab": {
          "base_uri": "https://localhost:8080/"
        },
        "id": "2GgdGKn93n18",
        "outputId": "48f85340-708f-4c0d-e342-6b00a87b973b"
      },
      "execution_count": 31,
      "outputs": [
        {
          "output_type": "stream",
          "name": "stdout",
          "text": [
            "ROC-AUC Score: 0.9968\n"
          ]
        }
      ]
    },
    {
      "cell_type": "code",
      "source": [
        "#42.Train a Bagging Classifier and evaluate its performance using cross-validatio.\n",
        "from sklearn.datasets import load_iris\n",
        "from sklearn.ensemble import BaggingClassifier\n",
        "from sklearn.tree import DecisionTreeClassifier\n",
        "from sklearn.model_selection import cross_val_score\n",
        "\n",
        "# Load dataset\n",
        "iris = load_iris()\n",
        "X, y = iris.data, iris.target\n",
        "\n",
        "# Initialize Bagging Classifier with Decision Trees\n",
        "# Changed 'base_estimator' to 'estimator' for compatibility with newer scikit-learn versions\n",
        "bagging_clf = BaggingClassifier(estimator=DecisionTreeClassifier(), n_estimators=50, random_state=42)\n",
        "\n",
        "# Perform 5-fold cross-validation\n",
        "scores = cross_val_score(bagging_clf, X, y, cv=5, scoring='accuracy')\n",
        "\n",
        "print(f\"Cross-validation accuracy scores: {scores}\")\n",
        "print(f\"Mean accuracy: {scores.mean():.4f}\")\n",
        "print(f\"Standard deviation: {scores.std():.4f}\")\n"
      ],
      "metadata": {
        "colab": {
          "base_uri": "https://localhost:8080/"
        },
        "id": "62iKgLXr3yvE",
        "outputId": "3fd1c04f-1753-4b20-f1fc-bc13673789c6"
      },
      "execution_count": 33,
      "outputs": [
        {
          "output_type": "stream",
          "name": "stdout",
          "text": [
            "Cross-validation accuracy scores: [0.96666667 0.96666667 0.93333333 0.96666667 1.        ]\n",
            "Mean accuracy: 0.9667\n",
            "Standard deviation: 0.0211\n"
          ]
        }
      ]
    },
    {
      "cell_type": "code",
      "source": [
        "#43. Train a Random Forest Classifier and plot the Precision-Recall curve.\n",
        "import matplotlib.pyplot as plt\n",
        "from sklearn.datasets import load_breast_cancer\n",
        "from sklearn.model_selection import train_test_split\n",
        "from sklearn.ensemble import RandomForestClassifier\n",
        "from sklearn.metrics import precision_recall_curve, auc\n",
        "\n",
        "# Load dataset\n",
        "data = load_breast_cancer()\n",
        "X, y = data.data, data.target\n",
        "\n",
        "# Split data\n",
        "X_train, X_test, y_train, y_test = train_test_split(X, y, test_size=0.3, random_state=42)\n",
        "\n",
        "# Train Random Forest\n",
        "rf = RandomForestClassifier(n_estimators=100, random_state=42)\n",
        "rf.fit(X_train, y_train)\n",
        "\n",
        "# Predict probabilities for positive class\n",
        "y_scores = rf.predict_proba(X_test)[:, 1]\n",
        "\n",
        "# Compute precision-recall curve\n",
        "precision, recall, thresholds = precision_recall_curve(y_test, y_scores)\n",
        "\n",
        "# Compute area under curve (AUC) for PR curve\n",
        "pr_auc = auc(recall, precision)\n",
        "\n",
        "# Plot Precision-Recall curve\n",
        "plt.figure(figsize=(8,6))\n",
        "plt.plot(recall, precision, label=f'PR Curve (AUC = {pr_auc:.4f})')\n",
        "plt.xlabel('Recall')\n",
        "plt.ylabel('Precision')\n",
        "plt.title('Precision-Recall Curve for Random Forest Classifier')\n",
        "plt.legend()\n",
        "plt.grid()\n",
        "plt.show()\n"
      ],
      "metadata": {
        "colab": {
          "base_uri": "https://localhost:8080/",
          "height": 564
        },
        "id": "pLQXQoEe4Ecj",
        "outputId": "b0be40e2-edd9-4d37-e0c8-a2dfe5c133e9"
      },
      "execution_count": 34,
      "outputs": [
        {
          "output_type": "display_data",
          "data": {
            "text/plain": [
              "<Figure size 800x600 with 1 Axes>"
            ],
            "image/png": "[encoded data removed]"
          },
          "metadata": {}
        }
      ]
    },
    {
      "cell_type": "code",
      "source": [
        "#44. Train a Stacking Classifier with Random Forest and Logistic Regression and compare accuracy.\n",
        "from sklearn.datasets import load_iris\n",
        "from sklearn.model_selection import train_test_split\n",
        "from sklearn.ensemble import RandomForestClassifier, StackingClassifier\n",
        "from sklearn.linear_model import LogisticRegression\n",
        "from sklearn.metrics import accuracy_score\n",
        "\n",
        "# Load dataset\n",
        "iris = load_iris()\n",
        "X, y = iris.data, iris.target\n",
        "\n",
        "# Split data\n",
        "X_train, X_test, y_train, y_test = train_test_split(X, y, test_size=0.3, random_state=42)\n",
        "\n",
        "# Define base estimators\n",
        "estimators = [\n",
        "    ('rf', RandomForestClassifier(n_estimators=100, random_state=42)),\n",
        "    ('lr', LogisticRegression(max_iter=1000, random_state=42))\n",
        "]\n",
        "\n",
        "# Initialize Stacking Classifier with Logistic Regression as final estimator\n",
        "stacking_clf = StackingClassifier(estimators=estimators, final_estimator=LogisticRegression(), cv=5)\n",
        "stacking_clf.fit(X_train, y_train)\n",
        "\n",
        "# Predict and evaluate Stacking Classifier\n",
        "y_pred_stack = stacking_clf.predict(X_test)\n",
        "acc_stack = accuracy_score(y_test, y_pred_stack)\n",
        "print(f\"Stacking Classifier Accuracy: {acc_stack:.4f}\")\n",
        "\n",
        "# Evaluate individual base models\n",
        "for name, model in estimators:\n",
        "    model.fit(X_train, y_train)\n",
        "    y_pred = model.predict(X_test)\n",
        "    acc = accuracy_score(y_test, y_pred)\n",
        "    print(f\"{name} Accuracy: {acc:.4f}\")\n"
      ],
      "metadata": {
        "colab": {
          "base_uri": "https://localhost:8080/"
        },
        "id": "I_BN-8cq4PKy",
        "outputId": "ef762975-ea39-4c6e-ae94-2100ec65dc2f"
      },
      "execution_count": 35,
      "outputs": [
        {
          "output_type": "stream",
          "name": "stdout",
          "text": [
            "Stacking Classifier Accuracy: 1.0000\n",
            "rf Accuracy: 1.0000\n",
            "lr Accuracy: 1.0000\n"
          ]
        }
      ]
    },
    {
      "cell_type": "code",
      "source": [
        "#45. Train a Bagging Regressor with different levels of bootstrap samples and compare performance.\n",
        "from sklearn.datasets import fetch_california_housing\n",
        "from sklearn.model_selection import train_test_split\n",
        "from sklearn.ensemble import BaggingRegressor\n",
        "from sklearn.tree import DecisionTreeRegressor\n",
        "from sklearn.metrics import mean_squared_error\n",
        "\n",
        "# Load dataset\n",
        "data = fetch_california_housing()\n",
        "X, y = data.data, data.target\n",
        "\n",
        "# Split data\n",
        "X_train, X_test, y_train, y_test = train_test_split(X, y, test_size=0.3, random_state=42)\n",
        "\n",
        "# Different bootstrap sample sizes (fractions)\n",
        "bootstrap_samples = [0.3, 0.5, 0.7, 1.0]\n",
        "\n",
        "for sample_frac in bootstrap_samples:\n",
        "    # Changed 'base_estimator' to 'estimator' for compatibility with newer scikit-learn versions\n",
        "    bagging_reg = BaggingRegressor(\n",
        "        estimator=DecisionTreeRegressor(), # Corrected parameter name\n",
        "        n_estimators=50,\n",
        "        max_samples=sample_frac,\n",
        "        bootstrap=True,\n",
        "        random_state=42\n",
        "    )\n",
        "    bagging_reg.fit(X_train, y_train)\n",
        "    y_pred = bagging_reg.predict(X_test)\n",
        "    mse = mean_squared_error(y_test, y_pred)\n",
        "    print(f\"max_samples={sample_frac}: MSE = {mse:.4f}\")\n"
      ],
      "metadata": {
        "colab": {
          "base_uri": "https://localhost:8080/"
        },
        "id": "HOOYd4Z_4aDK",
        "outputId": "8357a76f-e6fa-4745-92ab-e075902d2883"
      },
      "execution_count": 37,
      "outputs": [
        {
          "output_type": "stream",
          "name": "stdout",
          "text": [
            "max_samples=0.3: MSE = 0.2816\n",
            "max_samples=0.5: MSE = 0.2633\n",
            "max_samples=0.7: MSE = 0.2621\n",
            "max_samples=1.0: MSE = 0.2579\n"
          ]
        }
      ]
    }
  ]
}